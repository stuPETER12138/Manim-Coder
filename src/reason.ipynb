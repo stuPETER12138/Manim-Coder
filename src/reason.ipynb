{
 "cells": [
  {
   "cell_type": "code",
   "execution_count": null,
   "id": "f4f323fb-f016-438d-8cf7-21ff6b46229a",
   "metadata": {},
   "outputs": [],
   "source": [
    "import os\n",
    "os.environ['CUDA_VISIBLE_DEVICES'] = '0'\n",
    "\n",
    "from swift.llm import (\n",
    "    get_model_tokenizer, get_template, inference, ModelType, get_default_template_type\n",
    ")\n",
    "\n",
    "ckpt_dir = 'vx-xxx/checkpoint-100-merged'\n",
    "model_type = ModelType.yi_coder_9b_chat\n",
    "template_type = get_default_template_type(model_type)\n",
    "\n",
    "model, tokenizer = get_model_tokenizer(model_type, model_kwargs={'device_map': 'auto'},\n",
    "                                       model_id_or_path=ckpt_dir)\n",
    "\n",
    "template = get_template(template_type, tokenizer)\n",
    "query = 'I would like to create an educational animation where a colored array appears on the screen with names listed. Each name should be inside its own box, and each box should have an index number starting from 2 and increasing by 1 for each subsequent box. The indices should be positioned to the right of each box. I need the animation to slowly build up this array on-screen, taking about 8 seconds to fully display. Can you create such an animation for me, including the names \"Kiron\", \"Nirob\", and \"Israt\"? The boxes should be distinctly colored from the text and the indices.'\n",
    "response, history = inference(model, template, query)\n",
    "print(f'response: {response}')\n",
    "print(f'history: {history}')"
   ]
  }
 ],
 "metadata": {
  "kernelspec": {
   "display_name": "manim",
   "language": "python",
   "name": "manim"
  },
  "language_info": {
   "codemirror_mode": {
    "name": "ipython",
    "version": 3
   },
   "file_extension": ".py",
   "mimetype": "text/x-python",
   "name": "python",
   "nbconvert_exporter": "python",
   "pygments_lexer": "ipython3",
   "version": "3.10.15"
  }
 },
 "nbformat": 4,
 "nbformat_minor": 5
}
