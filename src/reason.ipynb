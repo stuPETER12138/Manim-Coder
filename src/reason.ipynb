{
 "cells": [
  {
   "cell_type": "code",
   "execution_count": null,
   "id": "e2d3ef49-807d-4952-8029-44f6b484509e",
   "metadata": {},
   "outputs": [],
   "source": [
    "import os\n",
    "os.environ['CUDA_VISIBLE_DEVICES'] = '0'\n",
    "\n",
    "from swift.llm import (\n",
    "    get_model_tokenizer, get_template, inference, ModelType, get_default_template_type\n",
    ")\n",
    "from swift.tuners import Swift\n",
    "\n",
    "ckpt_dir = './output/yi-coder-9b-chat/v4-20241017-184845/checkpoint-99'\n",
    "model_type = ModelType.yi_coder_9b_chat\n",
    "template_type = get_default_template_type(model_type)\n",
    "model_id_or_path = './local_model'\n",
    "model, tokenizer = get_model_tokenizer(model_type, model_id_or_path=model_id_or_path, model_kwargs={'device_map': 'auto'})\n",
    "model.generation_config.max_new_tokens = 2048\n",
    "\n",
    "model = Swift.from_pretrained(model, ckpt_dir, inference_mode=True)\n",
    "template = get_template(template_type, tokenizer)\n",
    "query = 'I would like to create an animated video where two names, \"Kiron\" and \"Tisha,\" appear on screen in different locations, with Kiron at the top left and Tisha at the bottom right.'\n",
    "response, history = inference(model, template, query)\n",
    "print(f'response: {response}')\n",
    "print(f'history: {history}')"
   ]
  }
 ],
 "metadata": {
  "kernelspec": {
   "display_name": "manim",
   "language": "python",
   "name": "manim"
  },
  "language_info": {
   "codemirror_mode": {
    "name": "ipython",
    "version": 3
   },
   "file_extension": ".py",
   "mimetype": "text/x-python",
   "name": "python",
   "nbconvert_exporter": "python",
   "pygments_lexer": "ipython3",
   "version": "3.10.15"
  }
 },
 "nbformat": 4,
 "nbformat_minor": 5
}
